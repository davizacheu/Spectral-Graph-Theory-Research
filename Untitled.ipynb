{
 "cells": [
  {
   "cell_type": "code",
   "execution_count": 2,
   "id": "9d19983d-9bbd-46c2-9cc4-1f5f53a44035",
   "metadata": {},
   "outputs": [
    {
     "name": "stdout",
     "output_type": "stream",
     "text": [
      "([90  0]\n",
      "[ 0 10], [  1   1]\n",
      "[1/2  -2])\n"
     ]
    }
   ],
   "source": [
    "A = matrix(ZZ,[[74,32],[32,26]])\n",
    "print(A.right_eigenmatrix())"
   ]
  },
  {
   "cell_type": "code",
   "execution_count": null,
   "id": "c8312c86",
   "metadata": {},
   "outputs": [],
   "source": []
  }
 ],
 "metadata": {
  "kernelspec": {
   "display_name": "SageMath 10.1",
   "language": "sage",
   "name": "sagemath-10.1"
  },
  "language_info": {
   "codemirror_mode": {
    "name": "ipython",
    "version": 3
   },
   "file_extension": ".py",
   "mimetype": "text/x-python",
   "name": "python",
   "nbconvert_exporter": "python",
   "pygments_lexer": "ipython3",
   "version": "3.11.1"
  }
 },
 "nbformat": 4,
 "nbformat_minor": 5
}
