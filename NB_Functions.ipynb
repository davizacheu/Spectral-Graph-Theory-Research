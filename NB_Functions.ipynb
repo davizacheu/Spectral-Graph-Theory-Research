{
 "cells": [
  {
   "cell_type": "code",
   "execution_count": null,
   "id": "15050ddd",
   "metadata": {},
   "outputs": [],
   "source": [
    "\n",
    "# from sage.matrix.all import *\n",
    "# from sage.graphs.all import *\n",
    "# from sage.algebras.all import * \n",
    "\n",
    "from sage.all import *\n"
   ]
  },
  {
   "cell_type": "code",
   "execution_count": null,
   "id": "74e41e72",
   "metadata": {},
   "outputs": [],
   "source": [
    "#Returns the volume of G\n",
    "\n",
    "def vol(G):\n",
    "    V = 0\n",
    "    for v in G.vertices():\n",
    "        V+=G.degree(v)\n",
    "    return V"
   ]
  },
  {
   "cell_type": "code",
   "execution_count": null,
   "id": "b0a698d7",
   "metadata": {},
   "outputs": [],
   "source": [
    "#Returns the normal transition probabillity matrix P of graph G\n",
    "\n",
    "def trans_prob_matrix(G):\n",
    "    A = G.adjacency_matrix()\n",
    "    D= diagonal_matrix([G.degree(v) for v in G.vertices()])\n",
    "    Dinv = D^(-1)\n",
    "    P = Dinv * A\n",
    "    return P\n",
    "\n",
    "\n",
    "\n",
    "\n"
   ]
  },
  {
   "cell_type": "code",
   "execution_count": null,
   "id": "0815c368",
   "metadata": {},
   "outputs": [],
   "source": [
    "#Returns the degree matrix D of graph G\n",
    "\n",
    "def deg_matrix(G):\n",
    "    return diagonal_matrix([G.degree(v) for v in G.vertices()], sparse = False)"
   ]
  },
  {
   "cell_type": "code",
   "execution_count": null,
   "id": "25cfc128",
   "metadata": {},
   "outputs": [],
   "source": [
    "def edge_ordering_dictionary(G):\n",
    "    D=dict()\n",
    "    i=0\n",
    "    for u in G.vertices():\n",
    "        for v in G.neighbors(u):\n",
    "            D.setdefault((u,v),i)\n",
    "            i=i+1\n",
    "    return D\n"
   ]
  },
  {
   "cell_type": "code",
   "execution_count": null,
   "id": "2bf941c4",
   "metadata": {},
   "outputs": [],
   "source": [
    "#Creates probability matrix of the non-backtracking matrix \n",
    "\n",
    "def trans_prob_matrix_nb(G):\n",
    "    L = []\n",
    "    D=edge_ordering_dictionary(G)\n",
    "    for a in D.keys():\n",
    "        i=D[a]\n",
    "        for b in D.keys():\n",
    "            j=D[b]\n",
    "            u=a[0]\n",
    "            v=a[1]\n",
    "            x=b[0]\n",
    "            y=b[1]\n",
    "            if v==x and y!=u:\n",
    "                L.append(float(1)/(G.degree(v)-1))\n",
    "            else: L.append(0)\n",
    "    P = matrix(vol(G), L)\n",
    "    return P"
   ]
  },
  {
   "cell_type": "code",
   "execution_count": null,
   "id": "7786c2ba",
   "metadata": {},
   "outputs": [],
   "source": [
    "#Creates normal edge adjacency matrix C for any graph G\n",
    "\n",
    "def edge_adjacency_matrix(G):\n",
    "    L = []\n",
    "    D=edge_ordering_dictionary(G)\n",
    "    for a in D.keys():\n",
    "        i=D[a]\n",
    "        for b in D.keys():\n",
    "            j=D[b]\n",
    "            u=a[0]\n",
    "            v=a[1]\n",
    "            x=b[0]\n",
    "            y=b[1]\n",
    "            if v==x:\n",
    "                L.append(1)\n",
    "            else: L.append(0)\n",
    "    B = matrix(vol(G), L)\n",
    "    return B"
   ]
  },
  {
   "cell_type": "code",
   "execution_count": null,
   "id": "535c7205",
   "metadata": {},
   "outputs": [],
   "source": [
    "#creates non-backtracking matrix B for any graph G\n",
    "\n",
    "def edge_adjacency_nb_matrix(G):\n",
    "    L = []\n",
    "    D=edge_ordering_dictionary(G)\n",
    "    for a in D.keys():\n",
    "        i=D[a]\n",
    "        for b in D.keys():\n",
    "            j=D[b]\n",
    "            u=a[0]\n",
    "            v=a[1]\n",
    "            x=b[0]\n",
    "            y=b[1]\n",
    "            if v==x and y!=u:\n",
    "                L.append(1)\n",
    "            else: L.append(0)\n",
    "    B = matrix(vol(G), L) \n",
    "    return B"
   ]
  },
  {
   "cell_type": "code",
   "execution_count": null,
   "id": "ba5d054d",
   "metadata": {},
   "outputs": [],
   "source": [
    "#returns Ihara Matrix of G\n",
    "\n",
    "def ihara_matrix(G):\n",
    "    A = G.adjacency_matrix(); D=deg_matrix(G); I = identity_matrix(G.order()); Z=matrix.zero(G.order())\n",
    "    return block_matrix(QQbar, [[A,D-I],[-I,Z]], subdivide = false)"
   ]
  },
  {
   "cell_type": "code",
   "execution_count": null,
   "id": "ca36f8b2",
   "metadata": {},
   "outputs": [],
   "source": [
    "#uses proposition 5.3 to calculate eigenvalues of Ihara Matrix from A\n",
    "\n",
    "def compute_K_evals(G):\n",
    "    K = ihara_matrix(G)\n",
    "    for A_evec in G.eigenvectors():\n",
    "        print(\"lambda: \" + str(A_evec[0]))\n",
    "        for K_evec in K.eigenvectors_right():\n",
    "            mu = K_evec[0]\n",
    "            print(\"Actual mu: \" + str(mu))\n",
    "            G1 = A_evec\n",
    "            lam = G1[0]\n",
    "            x_vectors = G1[1]\n",
    "            for A_evec_same_eval in x_vectors:\n",
    "                x = list(A_evec_same_eval)\n",
    "                x = vector(x)\n",
    "                B_evec = K_evec[1]\n",
    "                for K_evec_same_eval in B_evec:\n",
    "                    evec_list = list(K_evec_same_eval)\n",
    "                    evec_half = evec_list[G.order():]\n",
    "                    y = vector(evec_half)\n",
    "                    D = deg_matrix(G)\n",
    "                    if x*y != 0:\n",
    "                        mu1_calculated = (lam + sqrt(lam^2 - 4/(x*y)*x*(D - identity_matrix(len(y)))*y)) / 2\n",
    "                        mu2_calculated = (lam - sqrt(lam^2 - 4/(x*y)*x*(D - identity_matrix(len(y)))*y)) / 2\n",
    "                        if mu == mu1_calculated or mu == mu2_calculated:\n",
    "                            print(\"CORRECT\")\n",
    "                        else:\n",
    "                            print(\"INCORRECT\")\n",
    "                    else: \n",
    "                        print(\"x and y are orthogonal\")\n",
    "        print()"
   ]
  },
  {
   "cell_type": "code",
   "execution_count": null,
   "id": "e46d9f03",
   "metadata": {},
   "outputs": [],
   "source": [
    "#Tries to find all eigenvalues of Ihara Matrix using Proposition 5.3. If not all are found, \n",
    "# it prints off the graph of G and a list of eigenvalues that weren't calculated.\n",
    "\n",
    "#Takes a long time\n",
    "\n",
    "def find_eigenvalues(G):    \n",
    "    K = ihara_matrix(G)\n",
    "    set_of_evals = list(K.eigenvalues())\n",
    "    for A_evec in G.eigenvectors():\n",
    "        for K_evec in K.eigenvectors_right():\n",
    "            mu = K_evec[0]\n",
    "            lam = A_evec[0]\n",
    "            x_vectors = A_evec[1]\n",
    "            for A_evec_same_eval in x_vectors:\n",
    "                x = list(A_evec_same_eval)\n",
    "                x = vector(x)\n",
    "                K_evectors = K_evec[1]\n",
    "                for K_evec_same_eval in K_evectors:\n",
    "                    evec_list = list(K_evec_same_eval)\n",
    "                    evec_half = evec_list[G.order():]\n",
    "                    y = vector(evec_half)\n",
    "                    D = deg_matrix(G)\n",
    "                    if x*y != 0:\n",
    "                        mu1_calculated = (lam + sqrt(lam^2 - 4/(x*y)*x*(D - identity_matrix(len(y)))*y)) / 2\n",
    "                        mu2_calculated = (lam - sqrt(lam^2 - 4/(x*y)*x*(D - identity_matrix(len(y)))*y)) / 2\n",
    "                        if mu == mu1_calculated or mu == mu2_calculated:\n",
    "                            if mu in set_of_evals:\n",
    "                                set_of_evals.remove(mu)\n",
    "    if len(set_of_evals) == 0:\n",
    "        print(\"All eigenvalues found\")\n",
    "    else:\n",
    "        print(\"These eigenvalues were not found: \" + str(set_of_evals))\n",
    "        show(G)"
   ]
  },
  {
   "cell_type": "code",
   "execution_count": null,
   "id": "8688a5dd",
   "metadata": {},
   "outputs": [],
   "source": [
    "#returns list of eigenvectors corresponding to jth eigenvalue\n",
    "\n",
    "def get_ihara_evec(G,j):\n",
    "    K = ihara_matrix(G)\n",
    "    K_i = K.eigenvectors_right()[j]\n",
    "    K_i_evec = K_i[1]\n",
    "    return K_i_evec"
   ]
  },
  {
   "cell_type": "code",
   "execution_count": null,
   "id": "5a45d4fd",
   "metadata": {},
   "outputs": [],
   "source": [
    "#tells you if the Ihara matrix is diagonalizable\n",
    "\n",
    "def is_it_diagonalizable(list_of_graphs):\n",
    "    for g in list_of_graphs:\n",
    "        k = ihara_matrix(g)\n",
    "        if k.is_diagonalizable() == False:\n",
    "            show(g)\n",
    "            #for d in g.degree_iterator():\n",
    "            #    if d == 1:\n",
    "            #        show(g)\n",
    "        #else:\n",
    "            #print(\"FALSE\")"
   ]
  },
  {
   "cell_type": "code",
   "execution_count": null,
   "id": "33d866d6",
   "metadata": {},
   "outputs": [],
   "source": [
    "#tests cospectrality of B matrix\n",
    "\n",
    "def are_cospectral(g1,g2):\n",
    "    g1nb = edge_adjacency_nb_matrix(g1)\n",
    "    g2nb = edge_adjacency_nb_matrix(g2)\n",
    "    g1_spectrum = g1nb.eigenvalues()\n",
    "    g2_spectrum = g2nb.eigenvalues()\n",
    "    if g1_spectrum == g2_spectrum:\n",
    "        print(\"true\")\n",
    "        show(g1)\n",
    "        print(\"g1 spectrum is \" + str(g1_spectrum))\n",
    "        print(g1nb)\n",
    "        show(g2)\n",
    "        print(\"g2 spectrum is \" + str(g2_spectrum))\n",
    "        print(g2nb)\n",
    "    else:\n",
    "        print(\"false\")"
   ]
  },
  {
   "cell_type": "code",
   "execution_count": null,
   "id": "d6e7028f",
   "metadata": {},
   "outputs": [],
   "source": [
    "#Testing cospectrality of graphs with 5 vertices\n",
    "\n",
    "\n",
    "all_graphs = list(graphs.nauty_geng(\"5 -d2\"))\n",
    "graphs_length = len(all_graphs)\n",
    "for i in range (0,graphs_length):\n",
    "    for j in range(0,graphs_length):\n",
    "        if i != j:\n",
    "            are_cospectral(all_graphs[i],all_graphs[j])\n"
   ]
  },
  {
   "cell_type": "code",
   "execution_count": null,
   "id": "f86520e5",
   "metadata": {},
   "outputs": [],
   "source": [
    "#Testing diagonalizability of Ihara Matrix of graphs with 8 vertices, connected, and d_min >= 2\n",
    "\n",
    "\n",
    "all_graphs = graphs.nauty_geng(\"8 8:0 -c -d2\")\n",
    "#print(len(list(list_of_graphs)))\n",
    "#for g in all_graphs:\n",
    "#    find_eigenvalues(g)\n",
    "is_it_diagonalizable(all_graphs)"
   ]
  },
  {
   "cell_type": "code",
   "execution_count": null,
   "id": "20c0aa90",
   "metadata": {},
   "outputs": [],
   "source": [
    "#example of two cospectral graphs with minimum degree at least 2\n",
    "\n",
    "g1 = {0:[1,7,8], 1:[8,2], 3:[2,4], 5:[4,6], 7:[6,8], 8:[4]}\n",
    "g1 = Graph(g1)\n",
    "show(g1)\n",
    "g2 = {0:[1,7,8], 1:[8,2], 3:[2,8,4], 5:[4,6], 7:[6], 8:[4]}\n",
    "g2 = Graph(g2)\n",
    "show(g2)\n",
    "are_cospectral(g1,g2)\n",
    "k_g1 = ihara_matrix(g1)\n",
    "k_g2 = ihara_matrix(g2)\n",
    "print(k_g1.eigenvalues())\n",
    "\n",
    "print(k_g2.eigenvalues())"
   ]
  },
  {
   "cell_type": "code",
   "execution_count": null,
   "id": "ef09dddc",
   "metadata": {},
   "outputs": [],
   "source": [
    "#reconstructing the counter-example to our conjecture about the diagonalizability of Ihara matrices\n",
    "\n",
    "\n",
    "g = {0:[3,6,5], 1:[4,5,6], 2:[4,5,6], 3:[0,6], 4:[1,2,5], 5:[0,1,2,4,6], 6:[0,3,5]}\n",
    "sad_graph = Graph(g)\n",
    "show(sad_graph)\n",
    "k_sad = ihara_matrix(sad_graph)\n",
    "print(\"Is diagonalizable: \" + str(k_sad.is_diagonalizable()))\n",
    "print(k_sad.eigenvalues())\n",
    "find_eigenvalues(sad_graph)"
   ]
  },
  {
   "cell_type": "code",
   "execution_count": null,
   "id": "951ea699",
   "metadata": {},
   "outputs": [],
   "source": [
    "G = graphs.ButterflyGraph()\n",
    "G.add_cycle([4, 5, 6])\n",
    "K = ihara_matrix(G)\n",
    "P = trans_prob_matrix_nb(G)\n",
    "print(P)\n",
    "print(K.is_diagonalizable())\n",
    "print(P.eigenvalues())\n",
    "show(G)"
   ]
  },
  {
   "cell_type": "code",
   "execution_count": null,
   "id": "f925ed9e",
   "metadata": {},
   "outputs": [],
   "source": [
    "#An example of proposition 5.3 calculating the eigenvalues of the Ihara Matrix of some graph on 9 vertices\n",
    "\n",
    "G = deg_two_graph(6,0.5)\n",
    "G.add_vertices([6, 7, 8])\n",
    "G.add_edges([(6,0),(7,0),(8,7)])\n",
    "show(G)\n",
    "K = ihara_matrix(G)\n",
    "print(\"Ihara matrix is diagonalizable: \" + str(K.is_diagonalizable()))\n",
    "print(G.adjacency_matrix().eigenvalues())\n",
    "compute_K_evals(G)"
   ]
  }
 ],
 "metadata": {
  "kernelspec": {
   "display_name": "SageMath 10.0",
   "language": "sage",
   "name": "sagemath-10.0"
  },
  "language_info": {
   "codemirror_mode": {
    "name": "ipython",
    "version": 3
   },
   "file_extension": ".py",
   "mimetype": "text/x-python",
   "name": "python",
   "nbconvert_exporter": "python",
   "pygments_lexer": "ipython3",
   "version": "3.11.1"
  }
 },
 "nbformat": 4,
 "nbformat_minor": 5
}
